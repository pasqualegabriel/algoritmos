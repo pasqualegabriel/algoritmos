{
 "cells": [
  {
   "cell_type": "markdown",
   "metadata": {},
   "source": [
    "## Busqueda Binaria y Terciara\n",
    "\n",
    "#### Dado una lista ordenada y un elemento, retorna si el elemento esta en lista"
   ]
  },
  {
   "cell_type": "code",
   "execution_count": 24,
   "metadata": {},
   "outputs": [],
   "source": [
    "import random\n",
    "import timeit\n",
    "import matplotlib.pyplot as plt\n",
    "import numpy as np\n",
    "import scipy as sp\n",
    "import scipy.special\n",
    "import math"
   ]
  },
  {
   "cell_type": "code",
   "execution_count": 25,
   "metadata": {},
   "outputs": [
    {
     "name": "stdout",
     "output_type": "stream",
     "text": [
      "False\n",
      "True\n",
      "True\n",
      "True\n",
      "False\n"
     ]
    }
   ],
   "source": [
    "def busqueda_binaria(xs, e):\n",
    "    if len(xs) <= 1: # O(1)\n",
    "        return len(xs) == 1 and xs[0] == e # O(1)\n",
    "    middle = math.floor(len(xs)/2) # O(1)\n",
    "    left = xs[slice(0, middle)] # O(1)\n",
    "    right = xs[slice(middle, len(xs))] # O(1)\n",
    "    if e < xs[middle]: # O(1)\n",
    "        return busqueda_binaria(left, e) \n",
    "    return busqueda_binaria(right, e)\n",
    "\n",
    "print(busqueda_binaria([1], 2))\n",
    "print(busqueda_binaria([2], 2))\n",
    "print(busqueda_binaria([1,2,3,4,5,6], 2))\n",
    "print(busqueda_binaria([1,2,3,4,5,6], 6))\n",
    "print(busqueda_binaria([1,2,3,4,5,6], 7))"
   ]
  },
  {
   "cell_type": "markdown",
   "metadata": {},
   "source": [
    "a = 1, b = 2, f(n) = O(1)\n",
    "log_b(a) = 0\n",
    "n^log_2(1) = 1\n",
    "\n",
    "f(n) = n^log_b(a) entonces estamos en el caso 2\n",
    "\n",
    "T(n) = Theta(log(n) * n^log_b(a))\n",
    "\n",
    "O(log(n))"
   ]
  },
  {
   "cell_type": "code",
   "execution_count": 26,
   "metadata": {},
   "outputs": [
    {
     "name": "stdout",
     "output_type": "stream",
     "text": [
      "False\n",
      "True\n",
      "True\n",
      "True\n",
      "False\n"
     ]
    }
   ],
   "source": [
    "def busqueda_ternaria(xs, e):\n",
    "    if(len(xs) <= 2): # O(1)\n",
    "        return (len(xs) == 1 and xs[0] == e) or (len(xs) == 2 and xs[1] == e) # O(1)\n",
    "    unTercio = math.floor(len(xs)/3) # O(1)\n",
    "    dosTercios = math.floor(len(xs)*2/3) # O(1)\n",
    "    fisrtPart = xs[slice(0, unTercio)] # O(1)\n",
    "    secondPart = xs[slice(unTercio, dosTercios)] # O(1)\n",
    "    thirdPart = xs[slice(dosTercios, len(xs))] # O(1)\n",
    "    if e < xs[unTercio]: # O(1)\n",
    "        return busqueda_ternaria(fisrtPart, e)\n",
    "    if e < xs[dosTercios]: # O(1)\n",
    "        return busqueda_ternaria(secondPart, e)\n",
    "    return busqueda_ternaria(thirdPart, e)\n",
    "\n",
    "print(busqueda_binaria([1], 2))\n",
    "print(busqueda_binaria([2], 2))\n",
    "print(busqueda_binaria([1,2,3,4,5,6], 2))\n",
    "print(busqueda_binaria([1,2,3,4,5,6], 6))\n",
    "print(busqueda_binaria([1,2,3,4,5,6], 7))"
   ]
  },
  {
   "cell_type": "markdown",
   "metadata": {},
   "source": [
    "a = 1, b = 3, f(n) = O(1)\n",
    "log_b(a) = 0\n",
    "n^log_3(1) = 1\n",
    "\n",
    "f(n) = n^log_b(a) entonces estamos en el caso 2\n",
    "\n",
    "T(n) = Theta(log(n) * n^log_b(a))\n",
    "\n",
    "O(log(n))"
   ]
  },
  {
   "cell_type": "markdown",
   "metadata": {},
   "source": [
    "## Timing"
   ]
  },
  {
   "cell_type": "code",
   "execution_count": 27,
   "metadata": {},
   "outputs": [],
   "source": [
    "def microbench(callable_obj, plt, label, n_max = 100, st = 1):\n",
    "    n_min = 1 \n",
    "    st = 1\n",
    "    sz = 5 # iteraciones del benchmark\n",
    "\n",
    "    t_quick_2 = list()\n",
    "    for n in range(n_min, n_max, st):\n",
    "        v = random.sample(range(1, 1000000), n)\n",
    "        t_quick_2.append(timeit.timeit(lambda: callable_obj(v), number = sz))\n",
    "\n",
    "    plt.plot(list(range(n_min, n_max)), t_quick_2, label= label + '; step = ' + str(st))\n",
    "    plt.xlabel('n')\n",
    "    plt.ylabel('costo')\n",
    "    plt.legend()\n",
    "    \n",
    "    return plt"
   ]
  },
  {
   "cell_type": "code",
   "execution_count": 28,
   "metadata": {},
   "outputs": [],
   "source": [
    "n_min = 10\n",
    "n_max = 1000\n",
    "st = 10\n",
    "iteraciones = 10 # iteraciones del benchmark\n",
    "\n",
    "y_binaria = list()\n",
    "for n in range(n_min, n_max, st):\n",
    "    suma = 0\n",
    "    for i in range(1, iteraciones):\n",
    "        v = random.sample(range(1, 1000000), n)\n",
    "        e = random.randrange(n_max + 100)\n",
    "        suma += timeit.timeit(lambda: busqueda_binaria(v, e), number = 1)\n",
    "    promedio = suma / iteraciones\n",
    "    y_binaria.append(promedio)\n",
    "\n",
    "y_terciaria = list()\n",
    "for n in range(n_min, n_max, st):\n",
    "    suma = 0\n",
    "    for i in range(1, iteraciones):\n",
    "        v = random.sample(range(1, 1000000), n)\n",
    "        e = random.randrange(n_max + 100)\n",
    "        suma += timeit.timeit(lambda: busqueda_ternaria(v, e), number = 1)\n",
    "    promedio = suma / iteraciones\n",
    "    y_terciaria.append(promedio)"
   ]
  },
  {
   "cell_type": "code",
   "execution_count": 29,
   "metadata": {},
   "outputs": [
    {
     "data": {
      "text/plain": [
       "<matplotlib.legend.Legend at 0x7fb3c6eff2e0>"
      ]
     },
     "execution_count": 29,
     "metadata": {},
     "output_type": "execute_result"
    },
    {
     "data": {
      "image/png": "[encoded data removed]",
      "text/plain": [
       "<Figure size 432x288 with 1 Axes>"
      ]
     },
     "metadata": {
      "needs_background": "light"
     },
     "output_type": "display_data"
    }
   ],
   "source": [
    "eje_x = list(range(n_min, n_max, st))\n",
    "plt.xlabel('n')\n",
    "plt.ylabel('costo')\n",
    "\n",
    "plt.plot(eje_x, y_binaria, label = 'busqueda binaria')\n",
    "plt.plot(eje_x, y_terciaria, label = 'busqueda ternaria')\n",
    "plt.legend()"
   ]
  }
 ],
 "metadata": {
  "kernelspec": {
   "display_name": "Python 3",
   "language": "python",
   "name": "python3"
  },
  "language_info": {
   "codemirror_mode": {
    "name": "ipython",
    "version": 3
   },
   "file_extension": ".py",
   "mimetype": "text/x-python",
   "name": "python",
   "nbconvert_exporter": "python",
   "pygments_lexer": "ipython3",
   "version": "3.8.3"
  }
 },
 "nbformat": 4,
 "nbformat_minor": 4
}
