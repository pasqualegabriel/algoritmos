{
 "cells": [
  {
   "cell_type": "markdown",
   "metadata": {},
   "source": [
    "# 1"
   ]
  },
  {
   "cell_type": "code",
   "execution_count": 75,
   "metadata": {},
   "outputs": [
    {
     "data": {
      "text/plain": [
       "s8a_wrapper (generic function with 1 method)"
      ]
     },
     "execution_count": 75,
     "metadata": {},
     "output_type": "execute_result"
    }
   ],
   "source": [
    "function s8a_merge(v, idx_1, idx_2)\n",
    "    vout = Array{Int64, 1}()\n",
    "    cnt = 0\n",
    "    \n",
    "    while length(idx_1) != 0 && length(idx_2) != 0\n",
    "        if v[idx_1[1]] > v[idx_2[1]]\n",
    "            cnt += length(idx_1)\n",
    "            push!(vout, popfirst!(idx_2))\n",
    "        else\n",
    "            push!(vout, popfirst!(idx_1))\n",
    "        end\n",
    "    end\n",
    "    vout = vcat(vout, idx_1)    \n",
    "    vout = vcat(vout, idx_2)\n",
    "\n",
    "    return cnt, vout\n",
    "end\n",
    "\n",
    "function s8a(v, p, q)\n",
    "    if (q-p) == 1\n",
    "        if v[p] < v[q]\n",
    "            return 0, [p;q]\n",
    "        else\n",
    "            return 1, [q;p]\n",
    "        end\n",
    "    end\n",
    "    \n",
    "    r = convert(Int64, floor((q-p)/2))\n",
    "    \n",
    "    cnt_1, idx_1 = s8a(v, p, p+r)\n",
    "    cnt_2, idx_2 = s8a(v, p+r+1, q)\n",
    "    cnt_3, idx = s8a_merge(v, idx_1, idx_2) \n",
    "    \n",
    "    # idx no es necesario.\n",
    "    return (cnt_1+cnt_2+cnt_3), idx\n",
    "end\n",
    "\n",
    "function s8a_wrapper(v)\n",
    "    return s8a(v, 1, length(v))\n",
    "end"
   ]
  },
  {
   "cell_type": "markdown",
   "metadata": {},
   "source": [
    "# 1\n",
    "#### Versión O(n^2) en el peor caso (lista ordenada), pero q en listas muy desordenadas debería ir más rápido q la versión anterior."
   ]
  },
  {
   "cell_type": "code",
   "execution_count": 41,
   "metadata": {},
   "outputs": [
    {
     "data": {
      "text/plain": [
       "s8b_wrapper (generic function with 1 method)"
      ]
     },
     "execution_count": 41,
     "metadata": {},
     "output_type": "execute_result"
    }
   ],
   "source": [
    "function s8b_merge(v, idx_1, idx_2)\n",
    "    vout = Array{Int64, 1}()\n",
    "    cnt = 0\n",
    "    \n",
    "    for i in 1:length(idx_1)\n",
    "        for j in length(idx_2):-1:1\n",
    "            if v[idx_1[i]] > v[idx_2[j]]\n",
    "                cnt += (length(idx_1) - i + 1) * j\n",
    "                vout = vcat(vout, idx_2[1:j])\n",
    "                deleteat!(idx_2, 1:j)\n",
    "                break\n",
    "            end\n",
    "        end\n",
    "        push!(vout, idx_1[i])     \n",
    "    end\n",
    "    vout = vcat(vout, idx_2)\n",
    "    \n",
    "    return cnt, vout\n",
    "end\n",
    "\n",
    "function s8b(v, p, q)\n",
    "    if (q-p) == 1\n",
    "        if v[p] < v[q]\n",
    "            return 0, [p;q]\n",
    "        else\n",
    "            return 1, [q;p]\n",
    "        end\n",
    "    end\n",
    "    \n",
    "    r = convert(Int64, floor((q-p)/2))\n",
    "    \n",
    "    cnt_1, idx_1 = s8b(v, p, p+r)\n",
    "    cnt_2, idx_2 = s8b(v, p+r+1, q)\n",
    "    cnt_3, idx = s8b_merge(v, idx_1, idx_2) \n",
    "    \n",
    "    # idx no es necesario.\n",
    "    return (cnt_1+cnt_2+cnt_3), idx\n",
    "end\n",
    "\n",
    "function s8b_wrapper(v)\n",
    "    return s8b(v, 1, length(v))\n",
    "end"
   ]
  },
  {
   "cell_type": "code",
   "execution_count": 80,
   "metadata": {},
   "outputs": [],
   "source": [
    "v = rand(collect(1:100), 16);"
   ]
  },
  {
   "cell_type": "code",
   "execution_count": 81,
   "metadata": {},
   "outputs": [
    {
     "data": {
      "text/plain": [
       "(44, [4, 2, 15, 5, 7, 6, 3, 9, 16, 13, 8, 14, 1, 11, 10, 12])"
      ]
     },
     "execution_count": 81,
     "metadata": {},
     "output_type": "execute_result"
    }
   ],
   "source": [
    "s_a, id_a = s8a_wrapper(v)"
   ]
  },
  {
   "cell_type": "code",
   "execution_count": 82,
   "metadata": {},
   "outputs": [
    {
     "data": {
      "text/plain": [
       "(44, [4, 2, 15, 5, 7, 6, 3, 9, 16, 13, 8, 14, 1, 11, 10, 12])"
      ]
     },
     "execution_count": 82,
     "metadata": {},
     "output_type": "execute_result"
    }
   ],
   "source": [
    "s_b, id_b = s8b_wrapper(v)"
   ]
  },
  {
   "cell_type": "markdown",
   "metadata": {},
   "source": [
    "#### uso `id` p/ confirmar que el conteo esté bien"
   ]
  },
  {
   "cell_type": "code",
   "execution_count": 83,
   "metadata": {},
   "outputs": [
    {
     "data": {
      "text/plain": [
       "true"
      ]
     },
     "execution_count": 83,
     "metadata": {},
     "output_type": "execute_result"
    }
   ],
   "source": [
    "# Guarda q el sortperm() de Julia no es estable. Si da F, generar un nuevo `v`\n",
    "id_a == sortperm(v)"
   ]
  },
  {
   "cell_type": "code",
   "execution_count": 84,
   "metadata": {},
   "outputs": [
    {
     "data": {
      "text/plain": [
       "true"
      ]
     },
     "execution_count": 84,
     "metadata": {},
     "output_type": "execute_result"
    }
   ],
   "source": [
    "# Guarda q el sortperm() de Julia no es estable. Si da F, generar un nuevo `v`\n",
    "id_b == sortperm(v)"
   ]
  },
  {
   "cell_type": "markdown",
   "metadata": {},
   "source": [
    "# 2\n",
    "#### Guarda que está en python. El resultado es una lista con todos los costos, el mínimo de esa lista será el óptimo."
   ]
  },
  {
   "cell_type": "code",
   "execution_count": 66,
   "metadata": {},
   "outputs": [
    {
     "data": {
      "text/plain": [
       "84"
      ]
     },
     "execution_count": 66,
     "metadata": {},
     "output_type": "execute_result"
    }
   ],
   "source": [
    "def s3b(G, v, actual, n, count, cost, costos): \n",
    "    if (count == n and G[actual][0]): \n",
    "        costos.append(cost + G[actual][0]) \n",
    "        return\n",
    "\n",
    "    for i in range(n):\n",
    "        if (visitada[i] == False and G[actual][i]): \n",
    "            \n",
    "            visitada[i] = True\n",
    "            s3b(G, visitada, i, n, count + 1, \n",
    "                cost + G[actual][i], costos) \n",
    "            \n",
    "            # backtrack\n",
    "            visitada[i] = False"
   ]
  },
  {
   "cell_type": "code",
   "execution_count": 67,
   "metadata": {},
   "outputs": [
    {
     "data": {
      "text/plain": [
       "14-element Array{Int64,1}:\n",
       " 36\n",
       " 55\n",
       " 68\n",
       " 17\n",
       " 33\n",
       " 59\n",
       "  8\n",
       " 61\n",
       " 35\n",
       " 81\n",
       " 99\n",
       " 19\n",
       " 85\n",
       " 97"
      ]
     },
     "execution_count": 67,
     "metadata": {},
     "output_type": "execute_result"
    }
   ],
   "source": [
    "n = 4\n",
    "G = [[ 0, 10, 15, 20 ], \n",
    "        [ 10, 0, 35, 25 ], \n",
    "        [ 15, 35, 0, 30 ], \n",
    "        [ 20, 25, 30, 0 ]]\n",
    "G = [ [ 0, 5, 10, 15 ], \n",
    "     [ 5, 0, 30, 20 ],\n",
    "     [ 10, 30, 0, 25 ],\n",
    "     [ 15, 20, 25, 0 ] ]\n",
    "\n",
    "visitada = [False for i in range(n)] \n",
    "visitada[0] = True\n",
    "costos = []"
   ]
  },
  {
   "cell_type": "code",
   "execution_count": null,
   "metadata": {},
   "outputs": [],
   "source": [
    "s3b(G, visitada, 0, n, 1, 0, costos)"
   ]
  },
  {
   "cell_type": "code",
   "execution_count": null,
   "metadata": {},
   "outputs": [],
   "source": [
    "costos"
   ]
  },
  {
   "cell_type": "markdown",
   "metadata": {},
   "source": [
    "# 3\n",
    "#### En su momento no hice la top-down. La pueden hacer uds."
   ]
  },
  {
   "cell_type": "code",
   "execution_count": 85,
   "metadata": {},
   "outputs": [
    {
     "data": {
      "text/plain": [
       "s6_rec (generic function with 1 method)"
      ]
     },
     "execution_count": 85,
     "metadata": {},
     "output_type": "execute_result"
    }
   ],
   "source": [
    "function s6_rec(v, M)\n",
    "    t = typemax(Int64)\n",
    "    \n",
    "    if v < 1\n",
    "        return 0\n",
    "    else\n",
    "        for m in M\n",
    "            if m <= v\n",
    "                c = s6_rec(v-m, M)\n",
    "                t = min(t, c+1)        \n",
    "            end\n",
    "        end\n",
    "        return t\n",
    "    end\n",
    "end"
   ]
  },
  {
   "cell_type": "code",
   "execution_count": 89,
   "metadata": {},
   "outputs": [
    {
     "data": {
      "text/plain": [
       "s6_bottom_up (generic function with 1 method)"
      ]
     },
     "execution_count": 89,
     "metadata": {},
     "output_type": "execute_result"
    }
   ],
   "source": [
    "function s6_bottom_up(v, todos_los_billetes)\n",
    "    L = fill(typemax(Int64), v+1)\n",
    "    L[1] = 0\n",
    "    for subproblema in 2:v+1\n",
    "#         println(\"vuelto: \", subproblema - 1) # corrijo 1-indexing\n",
    "        for billete in todos_los_billetes\n",
    "            resto = subproblema - billete # corrijo 1-indexing. El subproblema 2, es devolver vuelto = 1\n",
    "            if resto > 0 # corrijo 1-indexing. El subproblema 2, es devolver vuelto = 1\n",
    "                L[subproblema] = min(L[subproblema], 1 + L[resto])\n",
    "                \n",
    "#                 println(\"billetes: \", L[subproblema], \" - L[resto] + 1:  \", L[resto], \" - resto: \", resto - 1)\n",
    "                \n",
    "            end\n",
    "        end\n",
    "#         println(\"-----\")\n",
    "    end\n",
    "    \n",
    "    # L es el array de memo\n",
    "    return hcat(collect(0:v), L)\n",
    "    \n",
    "    # El algoritmo sólo debería devolver el resultado del último subproblema\n",
    "#     return L[end]\n",
    "end"
   ]
  },
  {
   "cell_type": "code",
   "execution_count": 91,
   "metadata": {},
   "outputs": [
    {
     "data": {
      "text/plain": [
       "7-element Array{Int64,1}:\n",
       " 50\n",
       " 20\n",
       " 10\n",
       "  8\n",
       "  5\n",
       "  2\n",
       "  1"
      ]
     },
     "execution_count": 91,
     "metadata": {},
     "output_type": "execute_result"
    }
   ],
   "source": [
    "M = [ 50 ; 20 ; 10 ; 8; 5 ; 2 ; 1]"
   ]
  },
  {
   "cell_type": "code",
   "execution_count": 92,
   "metadata": {},
   "outputs": [
    {
     "data": {
      "text/plain": [
       "2"
      ]
     },
     "execution_count": 92,
     "metadata": {},
     "output_type": "execute_result"
    }
   ],
   "source": [
    "s6_rec(16, M)"
   ]
  },
  {
   "cell_type": "markdown",
   "metadata": {},
   "source": [
    "#### El resultado también es 2, pero p/ q vean toda la lista llena,la imprimo (derecha) junto con los valores de los subproblemas (es decir, el vuelto q hay q dar, a la izquierda)."
   ]
  },
  {
   "cell_type": "code",
   "execution_count": 93,
   "metadata": {},
   "outputs": [
    {
     "data": {
      "text/plain": [
       "17×2 Array{Int64,2}:\n",
       "  0  0\n",
       "  1  1\n",
       "  2  1\n",
       "  3  2\n",
       "  4  2\n",
       "  5  1\n",
       "  6  2\n",
       "  7  2\n",
       "  8  1\n",
       "  9  2\n",
       " 10  1\n",
       " 11  2\n",
       " 12  2\n",
       " 13  2\n",
       " 14  3\n",
       " 15  2\n",
       " 16  2"
      ]
     },
     "execution_count": 93,
     "metadata": {},
     "output_type": "execute_result"
    }
   ],
   "source": [
    "rtdo = s6_bottom_up(16, M)"
   ]
  }
 ],
 "metadata": {
  "kernelspec": {
   "display_name": "Julia 1.5.0",
   "language": "julia",
   "name": "julia-1.5"
  },
  "language_info": {
   "file_extension": ".jl",
   "mimetype": "application/julia",
   "name": "julia",
   "version": "1.5.0"
  }
 },
 "nbformat": 4,
 "nbformat_minor": 4
}
